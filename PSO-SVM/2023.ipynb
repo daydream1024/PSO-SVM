{
 "cells": [
  {
   "cell_type": "code",
   "execution_count": null,
   "metadata": {
    "collapsed": true
   },
   "outputs": [],
   "source": [
    "import pandas\n",
    "from sklearn.model_selection import train_test_split\n",
    "import numpy as np\n",
    "from sklearn.svm import SVC\n",
    "from sklearn.model_selection import cross_val_score\n",
    "import tkinter\n",
    "from sko.PSO import PSO\n",
    "import matplotlib.pyplot as plt"
   ]
  },
  {
   "cell_type": "code",
   "execution_count": null,
   "metadata": {
    "collapsed": false
   },
   "outputs": [],
   "source": [
    "np.random.seed(1)#控制变量"
   ]
  },
  {
   "cell_type": "code",
   "execution_count": null,
   "metadata": {
    "collapsed": false
   },
   "outputs": [],
   "source": [
    "names = ['age','sex','cp','trestbps','chol','fbs','restecg','thalach','exang','oldpeak','slope','ca','thal','num']\n",
    "HeartDisease = pandas.read_csv('./processed.cleveland.csv',header=None,names=names)"
   ]
  },
  {
   "cell_type": "code",
   "execution_count": null,
   "metadata": {
    "collapsed": false
   },
   "outputs": [],
   "source": [
    "median=HeartDisease['ca'].median()\n",
    "HeartDisease['ca'].fillna(median,inplace=True)\n",
    "median=HeartDisease['thal'].median()\n",
    "HeartDisease['thal'].fillna(median,inplace=True)\n",
    "#HeartDisease.info()"
   ]
  },
  {
   "cell_type": "code",
   "execution_count": null,
   "metadata": {
    "collapsed": false
   },
   "outputs": [],
   "source": [
    "label = HeartDisease['num']\n",
    "data = HeartDisease.drop(['num'],axis=1)"
   ]
  },
  {
   "cell_type": "code",
   "execution_count": null,
   "metadata": {
    "collapsed": false
   },
   "outputs": [],
   "source": [
    "if data.shape[0] == label.shape[0]:\n",
    "    print('Sample number is equal to label number')\n",
    "else:\n",
    "    print('Sample number not equal to label number')\n",
    "    exit(-1)"
   ]
  },
  {
   "cell_type": "code",
   "execution_count": null,
   "metadata": {
    "collapsed": false
   },
   "outputs": [],
   "source": [
    "clf=SVC(kernel='rbf')#测试不同svm在不同核函数下的性能\n",
    "acc  = cross_val_score(clf, data,label, cv=3)\n",
    "print(np.mean(acc))"
   ]
  },
  {
   "cell_type": "code",
   "execution_count": null,
   "outputs": [],
   "source": [
    "clf = SVC(kernel='poly')#测试不同svm在不同核函数下的性能\n",
    "acc = cross_val_score(clf, data, label, cv=3)\n",
    "print(np.mean(acc))"
   ],
   "metadata": {
    "collapsed": false
   }
  },
  {
   "cell_type": "code",
   "execution_count": null,
   "outputs": [],
   "source": [
    "clf = SVC(kernel='sigmoid')#测试不同svm在不同核函数下的性能\n",
    "acc = cross_val_score(clf, data, label, cv=3)\n",
    "print(np.mean(acc))"
   ],
   "metadata": {
    "collapsed": false
   }
  },
  {
   "cell_type": "code",
   "execution_count": null,
   "outputs": [],
   "source": [
    "clf = SVC(kernel='linear')#测试不同svm在不同核函数下的性能\n",
    "acc = cross_val_score(clf, data, label, cv=3)\n",
    "print(np.mean(acc))"
   ],
   "metadata": {
    "collapsed": false
   }
  },
  {
   "cell_type": "code",
   "execution_count": null,
   "metadata": {
    "collapsed": false
   },
   "outputs": [],
   "source": [
    "x_train , x_test , y_train , y_test =train_test_split(data, label, test_size=0.25, train_size=0.75, random_state=42)"
   ]
  },
  {
   "cell_type": "code",
   "execution_count": null,
   "outputs": [],
   "source": [
    "def plot(position):\n",
    "    x = []\n",
    "    y = []\n",
    "    for i in range(0,len(position)):\n",
    "        x.append(position[i][0])\n",
    "        y.append(position[i][1])\n",
    "    colors = (0,0,0)\n",
    "    plt.scatter(x, y, c = colors, alpha = 0.1)\n",
    "    plt.xlabel('C')\n",
    "    plt.ylabel('gamma')\n",
    "    plt.axis([0,1,0,1])\n",
    "    plt.gca().set_aspect('equal', adjustable='box')\n",
    "    return plt.show()"
   ],
   "metadata": {
    "collapsed": false
   }
  },
  {
   "cell_type": "code",
   "execution_count": null,
   "outputs": [],
   "source": [
    "class var:\n",
    "    count=0\n",
    "    bestsocre=0.0\n",
    "    bestpos=[]"
   ],
   "metadata": {
    "collapsed": false
   }
  },
  {
   "cell_type": "code",
   "execution_count": null,
   "outputs": [],
   "source": [
    "def func(x):\n",
    "    x1,x2=x\n",
    "    clf = SVC\n",
    "    socre = cross_val_score(clf(kernel='linear',C=x1, gamma=x2),data, label, cv=3).mean()\n",
    "    if(socre>var.bestsocre):\n",
    "        var.bestsocre=socre\n",
    "        var.bestpos=x\n",
    "    if var.count%10==0:\n",
    "        print('iter', int(var.count / 10))\n",
    "    print(x,socre)\n",
    "    if var.count%10==9:\n",
    "        print('best position is',var.bestpos,'best score is',var.bestsocre)\n",
    "        var.bestsocre=0\n",
    "    var.count+=1\n",
    "    return 1-socre"
   ],
   "metadata": {
    "collapsed": false
   }
  },
  {
   "cell_type": "code",
   "execution_count": null,
   "outputs": [],
   "source": [
    "pso = PSO(func=func, n_dim=2, pop=10, max_iter=50, lb=[0.001, 0.01], ub=[1, 10], w=0.8, c1=0.5, c2=0.5)\n",
    "pso.record_mode = True\n",
    "pso.run()\n",
    "print('best_C and best_gamma is ', pso.gbest_x, 'best_cost is', pso.gbest_y)"
   ],
   "metadata": {
    "collapsed": false
   }
  },
  {
   "cell_type": "code",
   "execution_count": null,
   "outputs": [],
   "source": [],
   "metadata": {
    "collapsed": false
   }
  },
  {
   "cell_type": "code",
   "execution_count": null,
   "metadata": {
    "collapsed": false
   },
   "outputs": [],
   "source": [
    "clf=SVC(kernel='linear',C=pso.gbest_x[0],gamma=pso.gbest_x[1])\n",
    "psoacc  = cross_val_score(clf, data,label, cv=3).mean()\n",
    "print(psoacc)"
   ]
  },
  {
   "cell_type": "code",
   "execution_count": null,
   "metadata": {
    "collapsed": false
   },
   "outputs": [],
   "source": [
    "if data.shape[0] == label.shape[0]:\n",
    "    root = tkinter.Tk()\n",
    "    text = tkinter.Text(root,width=20,height=1)\n",
    "    text.insert('1.0',psoacc)\n",
    "    text.pack()\n",
    "    root.title('ops-svm预测准确率')\n",
    "    root.geometry('240x120')\n",
    "    button = tkinter.Button(root, text=\"确定\", command=root.destroy)\n",
    "    button.place(x=100,y=80)\n",
    "    root.mainloop()\n",
    "else:\n",
    "    root = tkinter.Tk()\n",
    "    text = tkinter.Text(root,width=20,height=1)\n",
    "    text.insert('1.0','发生错误')\n",
    "    text.pack()\n",
    "    root.title('预测准确率')\n",
    "    root.geometry('240x120')\n",
    "    button = tkinter.Button(root, text=\"确定\", command=root.destroy)\n",
    "    button.place(x=100,y=80)\n",
    "    root.mainloop()"
   ]
  }
 ],
 "metadata": {
  "kernelspec": {
   "display_name": "Python 3",
   "language": "python",
   "name": "python3"
  },
  "language_info": {
   "codemirror_mode": {
    "name": "ipython",
    "version": 2
   },
   "file_extension": ".py",
   "mimetype": "text/x-python",
   "name": "python",
   "nbconvert_exporter": "python",
   "pygments_lexer": "ipython2",
   "version": "2.7.6"
  }
 },
 "nbformat": 4,
 "nbformat_minor": 0
}
