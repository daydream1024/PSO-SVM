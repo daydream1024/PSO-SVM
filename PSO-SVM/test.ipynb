{
 "cells": [
  {
   "cell_type": "code",
   "execution_count": 281,
   "outputs": [],
   "source": [
    "from sko.PSO import PSO\n",
    "import numpy as np\n",
    "from sklearn.model_selection import cross_val_score\n",
    "from sklearn.svm import SVC\n",
    "import pandas\n",
    "import matplotlib.pyplot as plt\n",
    "from matplotlib.animation import FuncAnimation"
   ],
   "metadata": {
    "collapsed": false
   }
  },
  {
   "cell_type": "code",
   "execution_count": 282,
   "outputs": [],
   "source": [
    "np.random.seed(1)  #控制变量\n",
    "names = ['age', 'sex', 'cp', 'trestbps', 'chol', 'fbs', 'restecg', 'thalach', 'exang', 'oldpeak', 'slope', 'ca', 'thal',\n",
    "         'num']\n",
    "HeartDisease = pandas.read_csv('./processed.cleveland.csv', header=None, names=names)\n",
    "median = HeartDisease['ca'].median()\n",
    "HeartDisease['ca'].fillna(median, inplace=True)\n",
    "median = HeartDisease['thal'].median()\n",
    "HeartDisease['thal'].fillna(median, inplace=True)\n",
    "label = HeartDisease['num']\n",
    "data = HeartDisease.drop(['num'], axis=1)"
   ],
   "metadata": {
    "collapsed": false
   }
  },
  {
   "cell_type": "code",
   "execution_count": 283,
   "outputs": [],
   "source": [
    "def func(x):\n",
    "    x1,x2=x\n",
    "    clf = SVC\n",
    "    socre = cross_val_score(clf(kernel='linear',C=x1, gamma=x2),data, label, cv=3).mean()\n",
    "    return 1-socre"
   ],
   "metadata": {
    "collapsed": false
   }
  },
  {
   "cell_type": "code",
   "execution_count": 284,
   "outputs": [
    {
     "name": "stdout",
     "output_type": "stream",
     "text": [
      "best_C and best_gamma is  [0.07296005 7.12430238] best_cost is [0.15511551]\n"
     ]
    }
   ],
   "source": [
    "pso = PSO(func=func, n_dim=2, pop=10, max_iter=100, lb=[0.01, 0.0001], ub=[10, 10], w=0.8, c1=0.5, c2=0.5)\n",
    "pso.record_mode = True\n",
    "pso.run()\n",
    "print('best_C and best_gamma is ', pso.gbest_x, 'best_cost is', pso.gbest_y)"
   ],
   "metadata": {
    "collapsed": false
   }
  },
  {
   "cell_type": "code",
   "execution_count": 285,
   "outputs": [
    {
     "name": "stdout",
     "output_type": "stream",
     "text": [
      "0.8448844884488449\n"
     ]
    }
   ],
   "source": [
    "clf=SVC(kernel='linear',C=pso.gbest_x[0],gamma=pso.gbest_x[1])\n",
    "acc  = cross_val_score(clf, data,label, cv=3)\n",
    "print(np.mean(acc))"
   ],
   "metadata": {
    "collapsed": false
   }
  },
  {
   "cell_type": "code",
   "execution_count": 286,
   "outputs": [
    {
     "name": "stdout",
     "output_type": "stream",
     "text": [
      "0.8283828382838284\n"
     ]
    }
   ],
   "source": [
    "clf=SVC(kernel='linear')\n",
    "acc  = cross_val_score(clf, data,label, cv=3)\n",
    "print(np.mean(acc))"
   ],
   "metadata": {
    "collapsed": false
   }
  },
  {
   "cell_type": "code",
   "execution_count": 287,
   "outputs": [
    {
     "data": {
      "text/plain": "<Figure size 432x288 with 1 Axes>",
      "image/png": "[encoded data removed]"
     },
     "metadata": {
      "needs_background": "light"
     },
     "output_type": "display_data"
    }
   ],
   "source": [
    "plt.plot(pso.gbest_y_hist)\n",
    "plt.show()"
   ],
   "metadata": {
    "collapsed": false
   }
  },
  {
   "cell_type": "code",
   "execution_count": 288,
   "outputs": [
    {
     "data": {
      "text/plain": "<Figure size 432x288 with 1 Axes>",
      "image/png": "[encoded data removed]"
     },
     "metadata": {
      "needs_background": "light"
     },
     "output_type": "display_data"
    }
   ],
   "source": [
    "record_value = pso.record_value\n",
    "X_list, V_list = record_value['X'], record_value['V']\n",
    "fig, ax = plt.subplots(1, 1)\n",
    "def update_scatter(frame):\n",
    "    i, j = frame // 10, frame % 10\n",
    "    ax.set_title('iter = ' + str(i))\n",
    "    X_tmp = X_list[i] + V_list[i] * j / 10.0\n",
    "    plt.setp(line, 'xdata', X_tmp[:, 0], 'ydata', X_tmp[:, 1])\n",
    "    return line\n",
    "ani = FuncAnimation(fig, update_scatter, blit=True, interval=25, frames=50 * 10)\n",
    "plt.show()\n",
    "ani.save('pso.gif', writer='pillow')"
   ],
   "metadata": {
    "collapsed": false
   }
  },
  {
   "cell_type": "code",
   "execution_count": 288,
   "outputs": [],
   "source": [],
   "metadata": {
    "collapsed": false
   }
  },
  {
   "cell_type": "code",
   "execution_count": 288,
   "outputs": [],
   "source": [],
   "metadata": {
    "collapsed": false
   }
  }
 ],
 "metadata": {
  "kernelspec": {
   "display_name": "Python 3",
   "language": "python",
   "name": "python3"
  },
  "language_info": {
   "codemirror_mode": {
    "name": "ipython",
    "version": 2
   },
   "file_extension": ".py",
   "mimetype": "text/x-python",
   "name": "python",
   "nbconvert_exporter": "python",
   "pygments_lexer": "ipython2",
   "version": "2.7.6"
  }
 },
 "nbformat": 4,
 "nbformat_minor": 0
}
